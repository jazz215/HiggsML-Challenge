{
  "nbformat": 4,
  "nbformat_minor": 0,
  "metadata": {
    "colab": {
      "name": "Higsians.ipynb",
      "provenance": [],
      "collapsed_sections": []
    },
    "kernelspec": {
      "name": "python3",
      "display_name": "Python 3"
    }
  },
  "cells": [
    {
      "cell_type": "code",
      "metadata": {
        "id": "ew4H_ptY4nY9",
        "colab_type": "code",
        "colab": {}
      },
      "source": [
        "import pandas as pd\n",
        "import numpy as np\n",
        "import lightgbm\n",
        "from sklearn.ensemble import RandomForestClassifier\n",
        "from sklearn.model_selection import train_test_split\n",
        "from sklearn.metrics import accuracy_score,confusion_matrix,roc_auc_score,roc_curve,auc\n",
        "import matplotlib.pyplot as plt\n",
        "import seaborn as sns\n",
        "from sklearn.linear_model import LogisticRegression\n",
        "from sklearn import model_selection\n",
        "from sklearn.ensemble import VotingClassifier\n",
        "from keras.preprocessing.image import load_img, array_to_img\n",
        "from keras.utils.np_utils import to_categorical\n",
        "from keras.models import Sequential\n",
        "from keras.layers import Dense\n",
        "from keras.layers import Dense, Conv2D, Flatten, Dropout, MaxPooling2D\n",
        "from sklearn.svm import LinearSVC\n",
        "\n"
      ],
      "execution_count": 0,
      "outputs": []
    },
    {
      "cell_type": "code",
      "metadata": {
        "id": "OUg0Y1yMB8YK",
        "colab_type": "code",
        "outputId": "58b590dc-a15a-473c-92e7-2f0627c93bdd",
        "colab": {
          "base_uri": "https://localhost:8080/",
          "height": 34
        }
      },
      "source": [
        "from google.colab import drive \n",
        "drive.mount('/drive')"
      ],
      "execution_count": 0,
      "outputs": [
        {
          "output_type": "stream",
          "text": [
            "Drive already mounted at /drive; to attempt to forcibly remount, call drive.mount(\"/drive\", force_remount=True).\n"
          ],
          "name": "stdout"
        }
      ]
    },
    {
      "cell_type": "code",
      "metadata": {
        "id": "JzlNhWgWC3xU",
        "colab_type": "code",
        "outputId": "d8920f6b-be64-4b18-dc55-4a4cb76802a1",
        "colab": {
          "base_uri": "https://localhost:8080/",
          "height": 224
        }
      },
      "source": [
        "higgs_atlas_data = pd.read_csv('/drive/My Drive/Colab/atlas_data.csv')\n",
        "higgs_atlas_data.head()\n"
      ],
      "execution_count": 0,
      "outputs": [
        {
          "output_type": "execute_result",
          "data": {
            "text/html": [
              "<div>\n",
              "<style scoped>\n",
              "    .dataframe tbody tr th:only-of-type {\n",
              "        vertical-align: middle;\n",
              "    }\n",
              "\n",
              "    .dataframe tbody tr th {\n",
              "        vertical-align: top;\n",
              "    }\n",
              "\n",
              "    .dataframe thead th {\n",
              "        text-align: right;\n",
              "    }\n",
              "</style>\n",
              "<table border=\"1\" class=\"dataframe\">\n",
              "  <thead>\n",
              "    <tr style=\"text-align: right;\">\n",
              "      <th></th>\n",
              "      <th>EventId</th>\n",
              "      <th>DER_mass_MMC</th>\n",
              "      <th>DER_mass_transverse_met_lep</th>\n",
              "      <th>DER_mass_vis</th>\n",
              "      <th>DER_pt_h</th>\n",
              "      <th>DER_deltaeta_jet_jet</th>\n",
              "      <th>DER_mass_jet_jet</th>\n",
              "      <th>DER_prodeta_jet_jet</th>\n",
              "      <th>DER_deltar_tau_lep</th>\n",
              "      <th>DER_pt_tot</th>\n",
              "      <th>DER_sum_pt</th>\n",
              "      <th>DER_pt_ratio_lep_tau</th>\n",
              "      <th>DER_met_phi_centrality</th>\n",
              "      <th>DER_lep_eta_centrality</th>\n",
              "      <th>PRI_tau_pt</th>\n",
              "      <th>PRI_tau_eta</th>\n",
              "      <th>PRI_tau_phi</th>\n",
              "      <th>PRI_lep_pt</th>\n",
              "      <th>PRI_lep_eta</th>\n",
              "      <th>PRI_lep_phi</th>\n",
              "      <th>PRI_met</th>\n",
              "      <th>PRI_met_phi</th>\n",
              "      <th>PRI_met_sumet</th>\n",
              "      <th>PRI_jet_num</th>\n",
              "      <th>PRI_jet_leading_pt</th>\n",
              "      <th>PRI_jet_leading_eta</th>\n",
              "      <th>PRI_jet_leading_phi</th>\n",
              "      <th>PRI_jet_subleading_pt</th>\n",
              "      <th>PRI_jet_subleading_eta</th>\n",
              "      <th>PRI_jet_subleading_phi</th>\n",
              "      <th>PRI_jet_all_pt</th>\n",
              "      <th>Weight</th>\n",
              "      <th>Label</th>\n",
              "      <th>KaggleSet</th>\n",
              "      <th>KaggleWeight</th>\n",
              "    </tr>\n",
              "  </thead>\n",
              "  <tbody>\n",
              "    <tr>\n",
              "      <th>0</th>\n",
              "      <td>100000</td>\n",
              "      <td>138.470</td>\n",
              "      <td>51.655</td>\n",
              "      <td>97.827</td>\n",
              "      <td>27.980</td>\n",
              "      <td>0.91</td>\n",
              "      <td>124.711</td>\n",
              "      <td>2.666</td>\n",
              "      <td>3.064</td>\n",
              "      <td>41.928</td>\n",
              "      <td>197.760</td>\n",
              "      <td>1.582</td>\n",
              "      <td>1.396</td>\n",
              "      <td>0.2</td>\n",
              "      <td>32.638</td>\n",
              "      <td>1.017</td>\n",
              "      <td>0.381</td>\n",
              "      <td>51.626</td>\n",
              "      <td>2.273</td>\n",
              "      <td>-2.414</td>\n",
              "      <td>16.824</td>\n",
              "      <td>-0.277</td>\n",
              "      <td>258.733</td>\n",
              "      <td>2</td>\n",
              "      <td>67.435</td>\n",
              "      <td>2.150</td>\n",
              "      <td>0.444</td>\n",
              "      <td>46.062</td>\n",
              "      <td>1.24</td>\n",
              "      <td>-2.475</td>\n",
              "      <td>113.497</td>\n",
              "      <td>0.000814</td>\n",
              "      <td>s</td>\n",
              "      <td>t</td>\n",
              "      <td>0.002653</td>\n",
              "    </tr>\n",
              "    <tr>\n",
              "      <th>1</th>\n",
              "      <td>100001</td>\n",
              "      <td>160.937</td>\n",
              "      <td>68.768</td>\n",
              "      <td>103.235</td>\n",
              "      <td>48.146</td>\n",
              "      <td>-999.00</td>\n",
              "      <td>-999.000</td>\n",
              "      <td>-999.000</td>\n",
              "      <td>3.473</td>\n",
              "      <td>2.078</td>\n",
              "      <td>125.157</td>\n",
              "      <td>0.879</td>\n",
              "      <td>1.414</td>\n",
              "      <td>-999.0</td>\n",
              "      <td>42.014</td>\n",
              "      <td>2.039</td>\n",
              "      <td>-3.011</td>\n",
              "      <td>36.918</td>\n",
              "      <td>0.501</td>\n",
              "      <td>0.103</td>\n",
              "      <td>44.704</td>\n",
              "      <td>-1.916</td>\n",
              "      <td>164.546</td>\n",
              "      <td>1</td>\n",
              "      <td>46.226</td>\n",
              "      <td>0.725</td>\n",
              "      <td>1.158</td>\n",
              "      <td>-999.000</td>\n",
              "      <td>-999.00</td>\n",
              "      <td>-999.000</td>\n",
              "      <td>46.226</td>\n",
              "      <td>0.681042</td>\n",
              "      <td>b</td>\n",
              "      <td>t</td>\n",
              "      <td>2.233584</td>\n",
              "    </tr>\n",
              "    <tr>\n",
              "      <th>2</th>\n",
              "      <td>100002</td>\n",
              "      <td>-999.000</td>\n",
              "      <td>162.172</td>\n",
              "      <td>125.953</td>\n",
              "      <td>35.635</td>\n",
              "      <td>-999.00</td>\n",
              "      <td>-999.000</td>\n",
              "      <td>-999.000</td>\n",
              "      <td>3.148</td>\n",
              "      <td>9.336</td>\n",
              "      <td>197.814</td>\n",
              "      <td>3.776</td>\n",
              "      <td>1.414</td>\n",
              "      <td>-999.0</td>\n",
              "      <td>32.154</td>\n",
              "      <td>-0.705</td>\n",
              "      <td>-2.093</td>\n",
              "      <td>121.409</td>\n",
              "      <td>-0.953</td>\n",
              "      <td>1.052</td>\n",
              "      <td>54.283</td>\n",
              "      <td>-2.186</td>\n",
              "      <td>260.414</td>\n",
              "      <td>1</td>\n",
              "      <td>44.251</td>\n",
              "      <td>2.053</td>\n",
              "      <td>-2.028</td>\n",
              "      <td>-999.000</td>\n",
              "      <td>-999.00</td>\n",
              "      <td>-999.000</td>\n",
              "      <td>44.251</td>\n",
              "      <td>0.715742</td>\n",
              "      <td>b</td>\n",
              "      <td>t</td>\n",
              "      <td>2.347389</td>\n",
              "    </tr>\n",
              "    <tr>\n",
              "      <th>3</th>\n",
              "      <td>100003</td>\n",
              "      <td>143.905</td>\n",
              "      <td>81.417</td>\n",
              "      <td>80.943</td>\n",
              "      <td>0.414</td>\n",
              "      <td>-999.00</td>\n",
              "      <td>-999.000</td>\n",
              "      <td>-999.000</td>\n",
              "      <td>3.310</td>\n",
              "      <td>0.414</td>\n",
              "      <td>75.968</td>\n",
              "      <td>2.354</td>\n",
              "      <td>-1.285</td>\n",
              "      <td>-999.0</td>\n",
              "      <td>22.647</td>\n",
              "      <td>-1.655</td>\n",
              "      <td>0.010</td>\n",
              "      <td>53.321</td>\n",
              "      <td>-0.522</td>\n",
              "      <td>-3.100</td>\n",
              "      <td>31.082</td>\n",
              "      <td>0.060</td>\n",
              "      <td>86.062</td>\n",
              "      <td>0</td>\n",
              "      <td>-999.000</td>\n",
              "      <td>-999.000</td>\n",
              "      <td>-999.000</td>\n",
              "      <td>-999.000</td>\n",
              "      <td>-999.00</td>\n",
              "      <td>-999.000</td>\n",
              "      <td>-0.000</td>\n",
              "      <td>1.660654</td>\n",
              "      <td>b</td>\n",
              "      <td>t</td>\n",
              "      <td>5.446378</td>\n",
              "    </tr>\n",
              "    <tr>\n",
              "      <th>4</th>\n",
              "      <td>100004</td>\n",
              "      <td>175.864</td>\n",
              "      <td>16.915</td>\n",
              "      <td>134.805</td>\n",
              "      <td>16.405</td>\n",
              "      <td>-999.00</td>\n",
              "      <td>-999.000</td>\n",
              "      <td>-999.000</td>\n",
              "      <td>3.891</td>\n",
              "      <td>16.405</td>\n",
              "      <td>57.983</td>\n",
              "      <td>1.056</td>\n",
              "      <td>-1.385</td>\n",
              "      <td>-999.0</td>\n",
              "      <td>28.209</td>\n",
              "      <td>-2.197</td>\n",
              "      <td>-2.231</td>\n",
              "      <td>29.774</td>\n",
              "      <td>0.798</td>\n",
              "      <td>1.569</td>\n",
              "      <td>2.723</td>\n",
              "      <td>-0.871</td>\n",
              "      <td>53.131</td>\n",
              "      <td>0</td>\n",
              "      <td>-999.000</td>\n",
              "      <td>-999.000</td>\n",
              "      <td>-999.000</td>\n",
              "      <td>-999.000</td>\n",
              "      <td>-999.00</td>\n",
              "      <td>-999.000</td>\n",
              "      <td>0.000</td>\n",
              "      <td>1.904263</td>\n",
              "      <td>b</td>\n",
              "      <td>t</td>\n",
              "      <td>6.245333</td>\n",
              "    </tr>\n",
              "  </tbody>\n",
              "</table>\n",
              "</div>"
            ],
            "text/plain": [
              "   EventId  DER_mass_MMC  ...  KaggleSet  KaggleWeight\n",
              "0   100000       138.470  ...          t      0.002653\n",
              "1   100001       160.937  ...          t      2.233584\n",
              "2   100002      -999.000  ...          t      2.347389\n",
              "3   100003       143.905  ...          t      5.446378\n",
              "4   100004       175.864  ...          t      6.245333\n",
              "\n",
              "[5 rows x 35 columns]"
            ]
          },
          "metadata": {
            "tags": []
          },
          "execution_count": 131
        }
      ]
    },
    {
      "cell_type": "code",
      "metadata": {
        "id": "nWhPfAdp5MrK",
        "colab_type": "code",
        "colab": {}
      },
      "source": [
        "# higgs_atlas_data['Event_Probablity']=higgs_atlas_data.EventId * higgs_atlas_data.Weight"
      ],
      "execution_count": 0,
      "outputs": []
    },
    {
      "cell_type": "code",
      "metadata": {
        "id": "s3_H0iMu53Oi",
        "colab_type": "code",
        "colab": {}
      },
      "source": [
        "# sns.pairplot(data=higgs_atlas_data)"
      ],
      "execution_count": 0,
      "outputs": []
    },
    {
      "cell_type": "code",
      "metadata": {
        "id": "lyn1pxo-Qe7k",
        "colab_type": "code",
        "outputId": "8461b074-3ea3-40f1-8290-0e73cf53e940",
        "colab": {
          "base_uri": "https://localhost:8080/",
          "height": 439
        }
      },
      "source": [
        "higgs_atlas_data.loc[higgs_atlas_data['Label']=='s']"
      ],
      "execution_count": 0,
      "outputs": [
        {
          "output_type": "execute_result",
          "data": {
            "text/html": [
              "<div>\n",
              "<style scoped>\n",
              "    .dataframe tbody tr th:only-of-type {\n",
              "        vertical-align: middle;\n",
              "    }\n",
              "\n",
              "    .dataframe tbody tr th {\n",
              "        vertical-align: top;\n",
              "    }\n",
              "\n",
              "    .dataframe thead th {\n",
              "        text-align: right;\n",
              "    }\n",
              "</style>\n",
              "<table border=\"1\" class=\"dataframe\">\n",
              "  <thead>\n",
              "    <tr style=\"text-align: right;\">\n",
              "      <th></th>\n",
              "      <th>EventId</th>\n",
              "      <th>DER_mass_MMC</th>\n",
              "      <th>DER_mass_transverse_met_lep</th>\n",
              "      <th>DER_mass_vis</th>\n",
              "      <th>DER_pt_h</th>\n",
              "      <th>DER_deltaeta_jet_jet</th>\n",
              "      <th>DER_mass_jet_jet</th>\n",
              "      <th>DER_prodeta_jet_jet</th>\n",
              "      <th>DER_deltar_tau_lep</th>\n",
              "      <th>DER_pt_tot</th>\n",
              "      <th>DER_sum_pt</th>\n",
              "      <th>DER_pt_ratio_lep_tau</th>\n",
              "      <th>DER_met_phi_centrality</th>\n",
              "      <th>DER_lep_eta_centrality</th>\n",
              "      <th>PRI_tau_pt</th>\n",
              "      <th>PRI_tau_eta</th>\n",
              "      <th>PRI_tau_phi</th>\n",
              "      <th>PRI_lep_pt</th>\n",
              "      <th>PRI_lep_eta</th>\n",
              "      <th>PRI_lep_phi</th>\n",
              "      <th>PRI_met</th>\n",
              "      <th>PRI_met_phi</th>\n",
              "      <th>PRI_met_sumet</th>\n",
              "      <th>PRI_jet_num</th>\n",
              "      <th>PRI_jet_leading_pt</th>\n",
              "      <th>PRI_jet_leading_eta</th>\n",
              "      <th>PRI_jet_leading_phi</th>\n",
              "      <th>PRI_jet_subleading_pt</th>\n",
              "      <th>PRI_jet_subleading_eta</th>\n",
              "      <th>PRI_jet_subleading_phi</th>\n",
              "      <th>PRI_jet_all_pt</th>\n",
              "      <th>Weight</th>\n",
              "      <th>Label</th>\n",
              "      <th>KaggleSet</th>\n",
              "      <th>KaggleWeight</th>\n",
              "    </tr>\n",
              "  </thead>\n",
              "  <tbody>\n",
              "    <tr>\n",
              "      <th>0</th>\n",
              "      <td>100000</td>\n",
              "      <td>138.470</td>\n",
              "      <td>51.655</td>\n",
              "      <td>97.827</td>\n",
              "      <td>27.980</td>\n",
              "      <td>0.910</td>\n",
              "      <td>124.711</td>\n",
              "      <td>2.666</td>\n",
              "      <td>3.064</td>\n",
              "      <td>41.928</td>\n",
              "      <td>197.760</td>\n",
              "      <td>1.582</td>\n",
              "      <td>1.396</td>\n",
              "      <td>0.200</td>\n",
              "      <td>32.638</td>\n",
              "      <td>1.017</td>\n",
              "      <td>0.381</td>\n",
              "      <td>51.626</td>\n",
              "      <td>2.273</td>\n",
              "      <td>-2.414</td>\n",
              "      <td>16.824</td>\n",
              "      <td>-0.277</td>\n",
              "      <td>258.733</td>\n",
              "      <td>2</td>\n",
              "      <td>67.435</td>\n",
              "      <td>2.150</td>\n",
              "      <td>0.444</td>\n",
              "      <td>46.062</td>\n",
              "      <td>1.240</td>\n",
              "      <td>-2.475</td>\n",
              "      <td>113.497</td>\n",
              "      <td>0.000814</td>\n",
              "      <td>s</td>\n",
              "      <td>t</td>\n",
              "      <td>0.002653</td>\n",
              "    </tr>\n",
              "    <tr>\n",
              "      <th>6</th>\n",
              "      <td>100006</td>\n",
              "      <td>148.754</td>\n",
              "      <td>28.862</td>\n",
              "      <td>107.782</td>\n",
              "      <td>106.130</td>\n",
              "      <td>0.733</td>\n",
              "      <td>158.359</td>\n",
              "      <td>0.113</td>\n",
              "      <td>2.941</td>\n",
              "      <td>2.545</td>\n",
              "      <td>305.967</td>\n",
              "      <td>3.371</td>\n",
              "      <td>1.393</td>\n",
              "      <td>0.791</td>\n",
              "      <td>28.850</td>\n",
              "      <td>1.113</td>\n",
              "      <td>2.409</td>\n",
              "      <td>97.240</td>\n",
              "      <td>0.675</td>\n",
              "      <td>-0.966</td>\n",
              "      <td>38.421</td>\n",
              "      <td>-1.443</td>\n",
              "      <td>294.074</td>\n",
              "      <td>2</td>\n",
              "      <td>123.010</td>\n",
              "      <td>0.864</td>\n",
              "      <td>1.450</td>\n",
              "      <td>56.867</td>\n",
              "      <td>0.131</td>\n",
              "      <td>-2.767</td>\n",
              "      <td>179.877</td>\n",
              "      <td>0.000814</td>\n",
              "      <td>s</td>\n",
              "      <td>t</td>\n",
              "      <td>0.002653</td>\n",
              "    </tr>\n",
              "    <tr>\n",
              "      <th>7</th>\n",
              "      <td>100007</td>\n",
              "      <td>154.916</td>\n",
              "      <td>10.418</td>\n",
              "      <td>94.714</td>\n",
              "      <td>29.169</td>\n",
              "      <td>-999.000</td>\n",
              "      <td>-999.000</td>\n",
              "      <td>-999.000</td>\n",
              "      <td>2.897</td>\n",
              "      <td>1.526</td>\n",
              "      <td>138.178</td>\n",
              "      <td>0.365</td>\n",
              "      <td>-1.305</td>\n",
              "      <td>-999.000</td>\n",
              "      <td>78.800</td>\n",
              "      <td>0.654</td>\n",
              "      <td>1.547</td>\n",
              "      <td>28.740</td>\n",
              "      <td>0.506</td>\n",
              "      <td>-1.347</td>\n",
              "      <td>22.275</td>\n",
              "      <td>-1.761</td>\n",
              "      <td>187.299</td>\n",
              "      <td>1</td>\n",
              "      <td>30.638</td>\n",
              "      <td>-0.715</td>\n",
              "      <td>-1.724</td>\n",
              "      <td>-999.000</td>\n",
              "      <td>-999.000</td>\n",
              "      <td>-999.000</td>\n",
              "      <td>30.638</td>\n",
              "      <td>0.005721</td>\n",
              "      <td>s</td>\n",
              "      <td>t</td>\n",
              "      <td>0.018636</td>\n",
              "    </tr>\n",
              "    <tr>\n",
              "      <th>9</th>\n",
              "      <td>100009</td>\n",
              "      <td>128.053</td>\n",
              "      <td>88.941</td>\n",
              "      <td>69.272</td>\n",
              "      <td>193.392</td>\n",
              "      <td>-999.000</td>\n",
              "      <td>-999.000</td>\n",
              "      <td>-999.000</td>\n",
              "      <td>1.609</td>\n",
              "      <td>28.859</td>\n",
              "      <td>255.123</td>\n",
              "      <td>0.599</td>\n",
              "      <td>0.538</td>\n",
              "      <td>-999.000</td>\n",
              "      <td>54.646</td>\n",
              "      <td>-1.533</td>\n",
              "      <td>0.416</td>\n",
              "      <td>32.742</td>\n",
              "      <td>-0.317</td>\n",
              "      <td>-0.636</td>\n",
              "      <td>132.678</td>\n",
              "      <td>0.845</td>\n",
              "      <td>294.741</td>\n",
              "      <td>1</td>\n",
              "      <td>167.735</td>\n",
              "      <td>-2.767</td>\n",
              "      <td>-2.514</td>\n",
              "      <td>-999.000</td>\n",
              "      <td>-999.000</td>\n",
              "      <td>-999.000</td>\n",
              "      <td>167.735</td>\n",
              "      <td>0.000461</td>\n",
              "      <td>s</td>\n",
              "      <td>t</td>\n",
              "      <td>0.001502</td>\n",
              "    </tr>\n",
              "    <tr>\n",
              "      <th>15</th>\n",
              "      <td>100015</td>\n",
              "      <td>111.026</td>\n",
              "      <td>32.096</td>\n",
              "      <td>75.271</td>\n",
              "      <td>23.067</td>\n",
              "      <td>-999.000</td>\n",
              "      <td>-999.000</td>\n",
              "      <td>-999.000</td>\n",
              "      <td>3.205</td>\n",
              "      <td>23.067</td>\n",
              "      <td>69.649</td>\n",
              "      <td>1.276</td>\n",
              "      <td>-1.414</td>\n",
              "      <td>-999.000</td>\n",
              "      <td>30.606</td>\n",
              "      <td>-1.107</td>\n",
              "      <td>-1.903</td>\n",
              "      <td>39.043</td>\n",
              "      <td>-1.944</td>\n",
              "      <td>1.191</td>\n",
              "      <td>19.959</td>\n",
              "      <td>2.415</td>\n",
              "      <td>122.176</td>\n",
              "      <td>0</td>\n",
              "      <td>-999.000</td>\n",
              "      <td>-999.000</td>\n",
              "      <td>-999.000</td>\n",
              "      <td>-999.000</td>\n",
              "      <td>-999.000</td>\n",
              "      <td>-999.000</td>\n",
              "      <td>-0.000</td>\n",
              "      <td>0.005721</td>\n",
              "      <td>s</td>\n",
              "      <td>t</td>\n",
              "      <td>0.018636</td>\n",
              "    </tr>\n",
              "    <tr>\n",
              "      <th>...</th>\n",
              "      <td>...</td>\n",
              "      <td>...</td>\n",
              "      <td>...</td>\n",
              "      <td>...</td>\n",
              "      <td>...</td>\n",
              "      <td>...</td>\n",
              "      <td>...</td>\n",
              "      <td>...</td>\n",
              "      <td>...</td>\n",
              "      <td>...</td>\n",
              "      <td>...</td>\n",
              "      <td>...</td>\n",
              "      <td>...</td>\n",
              "      <td>...</td>\n",
              "      <td>...</td>\n",
              "      <td>...</td>\n",
              "      <td>...</td>\n",
              "      <td>...</td>\n",
              "      <td>...</td>\n",
              "      <td>...</td>\n",
              "      <td>...</td>\n",
              "      <td>...</td>\n",
              "      <td>...</td>\n",
              "      <td>...</td>\n",
              "      <td>...</td>\n",
              "      <td>...</td>\n",
              "      <td>...</td>\n",
              "      <td>...</td>\n",
              "      <td>...</td>\n",
              "      <td>...</td>\n",
              "      <td>...</td>\n",
              "      <td>...</td>\n",
              "      <td>...</td>\n",
              "      <td>...</td>\n",
              "      <td>...</td>\n",
              "    </tr>\n",
              "    <tr>\n",
              "      <th>818226</th>\n",
              "      <td>918226</td>\n",
              "      <td>140.804</td>\n",
              "      <td>24.712</td>\n",
              "      <td>98.037</td>\n",
              "      <td>29.817</td>\n",
              "      <td>-999.000</td>\n",
              "      <td>-999.000</td>\n",
              "      <td>-999.000</td>\n",
              "      <td>2.907</td>\n",
              "      <td>21.578</td>\n",
              "      <td>131.994</td>\n",
              "      <td>0.809</td>\n",
              "      <td>1.411</td>\n",
              "      <td>-999.000</td>\n",
              "      <td>51.599</td>\n",
              "      <td>0.575</td>\n",
              "      <td>1.132</td>\n",
              "      <td>41.741</td>\n",
              "      <td>1.313</td>\n",
              "      <td>-2.339</td>\n",
              "      <td>15.377</td>\n",
              "      <td>2.925</td>\n",
              "      <td>142.772</td>\n",
              "      <td>1</td>\n",
              "      <td>38.654</td>\n",
              "      <td>-0.153</td>\n",
              "      <td>-0.147</td>\n",
              "      <td>-999.000</td>\n",
              "      <td>-999.000</td>\n",
              "      <td>-999.000</td>\n",
              "      <td>38.654</td>\n",
              "      <td>0.005721</td>\n",
              "      <td>s</td>\n",
              "      <td>u</td>\n",
              "      <td>0.259892</td>\n",
              "    </tr>\n",
              "    <tr>\n",
              "      <th>818227</th>\n",
              "      <td>918227</td>\n",
              "      <td>96.816</td>\n",
              "      <td>19.198</td>\n",
              "      <td>45.972</td>\n",
              "      <td>240.285</td>\n",
              "      <td>-999.000</td>\n",
              "      <td>-999.000</td>\n",
              "      <td>-999.000</td>\n",
              "      <td>1.130</td>\n",
              "      <td>30.000</td>\n",
              "      <td>298.031</td>\n",
              "      <td>2.565</td>\n",
              "      <td>1.375</td>\n",
              "      <td>-999.000</td>\n",
              "      <td>24.611</td>\n",
              "      <td>-0.356</td>\n",
              "      <td>-0.334</td>\n",
              "      <td>63.120</td>\n",
              "      <td>-1.361</td>\n",
              "      <td>-0.851</td>\n",
              "      <td>154.968</td>\n",
              "      <td>-0.657</td>\n",
              "      <td>379.024</td>\n",
              "      <td>1</td>\n",
              "      <td>210.299</td>\n",
              "      <td>-1.438</td>\n",
              "      <td>2.462</td>\n",
              "      <td>-999.000</td>\n",
              "      <td>-999.000</td>\n",
              "      <td>-999.000</td>\n",
              "      <td>210.299</td>\n",
              "      <td>0.005721</td>\n",
              "      <td>s</td>\n",
              "      <td>u</td>\n",
              "      <td>0.259892</td>\n",
              "    </tr>\n",
              "    <tr>\n",
              "      <th>818229</th>\n",
              "      <td>918229</td>\n",
              "      <td>161.338</td>\n",
              "      <td>82.848</td>\n",
              "      <td>101.681</td>\n",
              "      <td>76.665</td>\n",
              "      <td>2.882</td>\n",
              "      <td>273.808</td>\n",
              "      <td>-0.343</td>\n",
              "      <td>3.075</td>\n",
              "      <td>18.813</td>\n",
              "      <td>230.771</td>\n",
              "      <td>0.548</td>\n",
              "      <td>-1.335</td>\n",
              "      <td>0.690</td>\n",
              "      <td>60.597</td>\n",
              "      <td>1.487</td>\n",
              "      <td>-1.797</td>\n",
              "      <td>33.188</td>\n",
              "      <td>0.439</td>\n",
              "      <td>1.094</td>\n",
              "      <td>52.338</td>\n",
              "      <td>-2.268</td>\n",
              "      <td>304.659</td>\n",
              "      <td>2</td>\n",
              "      <td>99.110</td>\n",
              "      <td>2.758</td>\n",
              "      <td>1.131</td>\n",
              "      <td>37.876</td>\n",
              "      <td>-0.124</td>\n",
              "      <td>-1.672</td>\n",
              "      <td>136.986</td>\n",
              "      <td>0.000461</td>\n",
              "      <td>s</td>\n",
              "      <td>u</td>\n",
              "      <td>0.020956</td>\n",
              "    </tr>\n",
              "    <tr>\n",
              "      <th>818233</th>\n",
              "      <td>918233</td>\n",
              "      <td>105.668</td>\n",
              "      <td>46.443</td>\n",
              "      <td>60.048</td>\n",
              "      <td>156.191</td>\n",
              "      <td>0.403</td>\n",
              "      <td>47.746</td>\n",
              "      <td>0.936</td>\n",
              "      <td>1.279</td>\n",
              "      <td>6.133</td>\n",
              "      <td>256.853</td>\n",
              "      <td>0.659</td>\n",
              "      <td>1.343</td>\n",
              "      <td>0.000</td>\n",
              "      <td>61.970</td>\n",
              "      <td>2.074</td>\n",
              "      <td>1.874</td>\n",
              "      <td>40.827</td>\n",
              "      <td>2.098</td>\n",
              "      <td>-3.131</td>\n",
              "      <td>72.892</td>\n",
              "      <td>2.273</td>\n",
              "      <td>303.668</td>\n",
              "      <td>2</td>\n",
              "      <td>112.264</td>\n",
              "      <td>1.190</td>\n",
              "      <td>-0.766</td>\n",
              "      <td>41.791</td>\n",
              "      <td>0.787</td>\n",
              "      <td>-1.090</td>\n",
              "      <td>154.056</td>\n",
              "      <td>0.005721</td>\n",
              "      <td>s</td>\n",
              "      <td>u</td>\n",
              "      <td>0.259892</td>\n",
              "    </tr>\n",
              "    <tr>\n",
              "      <th>818234</th>\n",
              "      <td>918234</td>\n",
              "      <td>99.294</td>\n",
              "      <td>30.097</td>\n",
              "      <td>62.713</td>\n",
              "      <td>65.861</td>\n",
              "      <td>3.312</td>\n",
              "      <td>471.319</td>\n",
              "      <td>-2.611</td>\n",
              "      <td>2.294</td>\n",
              "      <td>2.889</td>\n",
              "      <td>248.582</td>\n",
              "      <td>1.429</td>\n",
              "      <td>1.398</td>\n",
              "      <td>0.586</td>\n",
              "      <td>28.711</td>\n",
              "      <td>-1.724</td>\n",
              "      <td>0.070</td>\n",
              "      <td>41.015</td>\n",
              "      <td>-1.573</td>\n",
              "      <td>2.359</td>\n",
              "      <td>34.940</td>\n",
              "      <td>1.541</td>\n",
              "      <td>266.919</td>\n",
              "      <td>2</td>\n",
              "      <td>108.698</td>\n",
              "      <td>1.293</td>\n",
              "      <td>-0.868</td>\n",
              "      <td>70.158</td>\n",
              "      <td>-2.018</td>\n",
              "      <td>2.893</td>\n",
              "      <td>178.856</td>\n",
              "      <td>0.000461</td>\n",
              "      <td>s</td>\n",
              "      <td>u</td>\n",
              "      <td>0.020956</td>\n",
              "    </tr>\n",
              "  </tbody>\n",
              "</table>\n",
              "<p>279560 rows × 35 columns</p>\n",
              "</div>"
            ],
            "text/plain": [
              "        EventId  DER_mass_MMC  ...  KaggleSet  KaggleWeight\n",
              "0        100000       138.470  ...          t      0.002653\n",
              "6        100006       148.754  ...          t      0.002653\n",
              "7        100007       154.916  ...          t      0.018636\n",
              "9        100009       128.053  ...          t      0.001502\n",
              "15       100015       111.026  ...          t      0.018636\n",
              "...         ...           ...  ...        ...           ...\n",
              "818226   918226       140.804  ...          u      0.259892\n",
              "818227   918227        96.816  ...          u      0.259892\n",
              "818229   918229       161.338  ...          u      0.020956\n",
              "818233   918233       105.668  ...          u      0.259892\n",
              "818234   918234        99.294  ...          u      0.020956\n",
              "\n",
              "[279560 rows x 35 columns]"
            ]
          },
          "metadata": {
            "tags": []
          },
          "execution_count": 132
        }
      ]
    },
    {
      "cell_type": "code",
      "metadata": {
        "id": "nuQcItf8S_Zq",
        "colab_type": "code",
        "outputId": "da106bcf-8845-4331-9d70-ec1d96c1d8cb",
        "colab": {
          "base_uri": "https://localhost:8080/",
          "height": 34
        }
      },
      "source": [
        "higgs_atlas_data.loc[higgs_atlas_data['KaggleSet']=='t'].shape"
      ],
      "execution_count": 0,
      "outputs": [
        {
          "output_type": "execute_result",
          "data": {
            "text/plain": [
              "(250000, 35)"
            ]
          },
          "metadata": {
            "tags": []
          },
          "execution_count": 133
        }
      ]
    },
    {
      "cell_type": "code",
      "metadata": {
        "id": "xymGVpk6Tiy0",
        "colab_type": "code",
        "outputId": "01e7b08f-46fc-47fc-f127-0c49c46c8bec",
        "colab": {
          "base_uri": "https://localhost:8080/",
          "height": 34
        }
      },
      "source": [
        "higgs_atlas_data.loc[higgs_atlas_data['KaggleSet']=='v'].shape"
      ],
      "execution_count": 0,
      "outputs": [
        {
          "output_type": "execute_result",
          "data": {
            "text/plain": [
              "(450000, 35)"
            ]
          },
          "metadata": {
            "tags": []
          },
          "execution_count": 134
        }
      ]
    },
    {
      "cell_type": "code",
      "metadata": {
        "id": "-CtDuz5DTngK",
        "colab_type": "code",
        "outputId": "0feb8a34-e7f2-40ac-d010-7cb02be3edfe",
        "colab": {
          "base_uri": "https://localhost:8080/",
          "height": 34
        }
      },
      "source": [
        "higgs_atlas_data.loc[higgs_atlas_data['KaggleSet']=='b'].shape"
      ],
      "execution_count": 0,
      "outputs": [
        {
          "output_type": "execute_result",
          "data": {
            "text/plain": [
              "(100000, 35)"
            ]
          },
          "metadata": {
            "tags": []
          },
          "execution_count": 135
        }
      ]
    },
    {
      "cell_type": "code",
      "metadata": {
        "id": "SkVp_m8oTqSH",
        "colab_type": "code",
        "outputId": "e1e57f28-9b19-480b-84e0-8a06eff93d53",
        "colab": {
          "base_uri": "https://localhost:8080/",
          "height": 34
        }
      },
      "source": [
        "higgs_atlas_data.loc[higgs_atlas_data['KaggleSet']=='u'].shape"
      ],
      "execution_count": 0,
      "outputs": [
        {
          "output_type": "execute_result",
          "data": {
            "text/plain": [
              "(18238, 35)"
            ]
          },
          "metadata": {
            "tags": []
          },
          "execution_count": 136
        }
      ]
    },
    {
      "cell_type": "code",
      "metadata": {
        "id": "VmL24oIuSU03",
        "colab_type": "code",
        "outputId": "0de4687e-9d95-4112-82c9-40d760678727",
        "colab": {
          "base_uri": "https://localhost:8080/",
          "height": 697
        }
      },
      "source": [
        "higgs_atlas_data.info()"
      ],
      "execution_count": 0,
      "outputs": [
        {
          "output_type": "stream",
          "text": [
            "<class 'pandas.core.frame.DataFrame'>\n",
            "RangeIndex: 818238 entries, 0 to 818237\n",
            "Data columns (total 35 columns):\n",
            "EventId                        818238 non-null int64\n",
            "DER_mass_MMC                   818238 non-null float64\n",
            "DER_mass_transverse_met_lep    818238 non-null float64\n",
            "DER_mass_vis                   818238 non-null float64\n",
            "DER_pt_h                       818238 non-null float64\n",
            "DER_deltaeta_jet_jet           818238 non-null float64\n",
            "DER_mass_jet_jet               818238 non-null float64\n",
            "DER_prodeta_jet_jet            818238 non-null float64\n",
            "DER_deltar_tau_lep             818238 non-null float64\n",
            "DER_pt_tot                     818238 non-null float64\n",
            "DER_sum_pt                     818238 non-null float64\n",
            "DER_pt_ratio_lep_tau           818238 non-null float64\n",
            "DER_met_phi_centrality         818238 non-null float64\n",
            "DER_lep_eta_centrality         818238 non-null float64\n",
            "PRI_tau_pt                     818238 non-null float64\n",
            "PRI_tau_eta                    818238 non-null float64\n",
            "PRI_tau_phi                    818238 non-null float64\n",
            "PRI_lep_pt                     818238 non-null float64\n",
            "PRI_lep_eta                    818238 non-null float64\n",
            "PRI_lep_phi                    818238 non-null float64\n",
            "PRI_met                        818238 non-null float64\n",
            "PRI_met_phi                    818238 non-null float64\n",
            "PRI_met_sumet                  818238 non-null float64\n",
            "PRI_jet_num                    818238 non-null int64\n",
            "PRI_jet_leading_pt             818238 non-null float64\n",
            "PRI_jet_leading_eta            818238 non-null float64\n",
            "PRI_jet_leading_phi            818238 non-null float64\n",
            "PRI_jet_subleading_pt          818238 non-null float64\n",
            "PRI_jet_subleading_eta         818238 non-null float64\n",
            "PRI_jet_subleading_phi         818238 non-null float64\n",
            "PRI_jet_all_pt                 818238 non-null float64\n",
            "Weight                         818238 non-null float64\n",
            "Label                          818238 non-null object\n",
            "KaggleSet                      818238 non-null object\n",
            "KaggleWeight                   818238 non-null float64\n",
            "dtypes: float64(31), int64(2), object(2)\n",
            "memory usage: 218.5+ MB\n"
          ],
          "name": "stdout"
        }
      ]
    },
    {
      "cell_type": "code",
      "metadata": {
        "id": "VS2npd8hSdDk",
        "colab_type": "code",
        "outputId": "a0cdb78d-e3e7-446d-dac2-42e31bf42888",
        "colab": {
          "base_uri": "https://localhost:8080/",
          "height": 34
        }
      },
      "source": [
        "higgs_atlas_data.shape"
      ],
      "execution_count": 0,
      "outputs": [
        {
          "output_type": "execute_result",
          "data": {
            "text/plain": [
              "(818238, 35)"
            ]
          },
          "metadata": {
            "tags": []
          },
          "execution_count": 138
        }
      ]
    },
    {
      "cell_type": "code",
      "metadata": {
        "id": "mTVNrB7fSK9t",
        "colab_type": "code",
        "outputId": "3e151856-7826-47b7-edd2-9eb8c8351136",
        "colab": {
          "base_uri": "https://localhost:8080/",
          "height": 317
        }
      },
      "source": [
        "higgs_atlas_data.describe()"
      ],
      "execution_count": 0,
      "outputs": [
        {
          "output_type": "execute_result",
          "data": {
            "text/html": [
              "<div>\n",
              "<style scoped>\n",
              "    .dataframe tbody tr th:only-of-type {\n",
              "        vertical-align: middle;\n",
              "    }\n",
              "\n",
              "    .dataframe tbody tr th {\n",
              "        vertical-align: top;\n",
              "    }\n",
              "\n",
              "    .dataframe thead th {\n",
              "        text-align: right;\n",
              "    }\n",
              "</style>\n",
              "<table border=\"1\" class=\"dataframe\">\n",
              "  <thead>\n",
              "    <tr style=\"text-align: right;\">\n",
              "      <th></th>\n",
              "      <th>EventId</th>\n",
              "      <th>DER_mass_MMC</th>\n",
              "      <th>DER_mass_transverse_met_lep</th>\n",
              "      <th>DER_mass_vis</th>\n",
              "      <th>DER_pt_h</th>\n",
              "      <th>DER_deltaeta_jet_jet</th>\n",
              "      <th>DER_mass_jet_jet</th>\n",
              "      <th>DER_prodeta_jet_jet</th>\n",
              "      <th>DER_deltar_tau_lep</th>\n",
              "      <th>DER_pt_tot</th>\n",
              "      <th>DER_sum_pt</th>\n",
              "      <th>DER_pt_ratio_lep_tau</th>\n",
              "      <th>DER_met_phi_centrality</th>\n",
              "      <th>DER_lep_eta_centrality</th>\n",
              "      <th>PRI_tau_pt</th>\n",
              "      <th>PRI_tau_eta</th>\n",
              "      <th>PRI_tau_phi</th>\n",
              "      <th>PRI_lep_pt</th>\n",
              "      <th>PRI_lep_eta</th>\n",
              "      <th>PRI_lep_phi</th>\n",
              "      <th>PRI_met</th>\n",
              "      <th>PRI_met_phi</th>\n",
              "      <th>PRI_met_sumet</th>\n",
              "      <th>PRI_jet_num</th>\n",
              "      <th>PRI_jet_leading_pt</th>\n",
              "      <th>PRI_jet_leading_eta</th>\n",
              "      <th>PRI_jet_leading_phi</th>\n",
              "      <th>PRI_jet_subleading_pt</th>\n",
              "      <th>PRI_jet_subleading_eta</th>\n",
              "      <th>PRI_jet_subleading_phi</th>\n",
              "      <th>PRI_jet_all_pt</th>\n",
              "      <th>Weight</th>\n",
              "      <th>KaggleWeight</th>\n",
              "    </tr>\n",
              "  </thead>\n",
              "  <tbody>\n",
              "    <tr>\n",
              "      <th>count</th>\n",
              "      <td>818238.000000</td>\n",
              "      <td>818238.000000</td>\n",
              "      <td>818238.000000</td>\n",
              "      <td>818238.000000</td>\n",
              "      <td>818238.000000</td>\n",
              "      <td>818238.000000</td>\n",
              "      <td>818238.000000</td>\n",
              "      <td>818238.000000</td>\n",
              "      <td>818238.000000</td>\n",
              "      <td>818238.000000</td>\n",
              "      <td>818238.000000</td>\n",
              "      <td>818238.000000</td>\n",
              "      <td>818238.000000</td>\n",
              "      <td>818238.000000</td>\n",
              "      <td>818238.000000</td>\n",
              "      <td>818238.000000</td>\n",
              "      <td>818238.000000</td>\n",
              "      <td>818238.000000</td>\n",
              "      <td>818238.000000</td>\n",
              "      <td>818238.000000</td>\n",
              "      <td>818238.000000</td>\n",
              "      <td>818238.000000</td>\n",
              "      <td>818238.000000</td>\n",
              "      <td>818238.000000</td>\n",
              "      <td>818238.000000</td>\n",
              "      <td>818238.000000</td>\n",
              "      <td>818238.000000</td>\n",
              "      <td>818238.000000</td>\n",
              "      <td>818238.000000</td>\n",
              "      <td>818238.000000</td>\n",
              "      <td>818238.000000</td>\n",
              "      <td>818238.000000</td>\n",
              "      <td>818238.000000</td>\n",
              "    </tr>\n",
              "    <tr>\n",
              "      <th>mean</th>\n",
              "      <td>509118.500000</td>\n",
              "      <td>-48.819019</td>\n",
              "      <td>49.252714</td>\n",
              "      <td>81.140561</td>\n",
              "      <td>57.849524</td>\n",
              "      <td>-707.740880</td>\n",
              "      <td>-600.191191</td>\n",
              "      <td>-708.681306</td>\n",
              "      <td>2.373871</td>\n",
              "      <td>18.969617</td>\n",
              "      <td>158.596159</td>\n",
              "      <td>1.438776</td>\n",
              "      <td>-0.127277</td>\n",
              "      <td>-708.306918</td>\n",
              "      <td>38.698152</td>\n",
              "      <td>-0.011663</td>\n",
              "      <td>-0.013158</td>\n",
              "      <td>46.692414</td>\n",
              "      <td>-0.019079</td>\n",
              "      <td>0.049460</td>\n",
              "      <td>41.654526</td>\n",
              "      <td>-0.008634</td>\n",
              "      <td>209.908730</td>\n",
              "      <td>0.979923</td>\n",
              "      <td>-348.757840</td>\n",
              "      <td>-399.693294</td>\n",
              "      <td>-399.703858</td>\n",
              "      <td>-691.626111</td>\n",
              "      <td>-708.442206</td>\n",
              "      <td>-708.443312</td>\n",
              "      <td>73.205594</td>\n",
              "      <td>0.503144</td>\n",
              "      <td>2.012577</td>\n",
              "    </tr>\n",
              "    <tr>\n",
              "      <th>std</th>\n",
              "      <td>236205.109119</td>\n",
              "      <td>406.118397</td>\n",
              "      <td>35.378609</td>\n",
              "      <td>40.582708</td>\n",
              "      <td>63.411938</td>\n",
              "      <td>454.793899</td>\n",
              "      <td>658.724040</td>\n",
              "      <td>453.328599</td>\n",
              "      <td>0.780875</td>\n",
              "      <td>21.918491</td>\n",
              "      <td>116.089809</td>\n",
              "      <td>0.845109</td>\n",
              "      <td>1.194235</td>\n",
              "      <td>453.909127</td>\n",
              "      <td>22.429016</td>\n",
              "      <td>1.213511</td>\n",
              "      <td>1.816083</td>\n",
              "      <td>22.142337</td>\n",
              "      <td>1.264250</td>\n",
              "      <td>1.815099</td>\n",
              "      <td>32.496113</td>\n",
              "      <td>1.812703</td>\n",
              "      <td>126.816686</td>\n",
              "      <td>0.978793</td>\n",
              "      <td>533.097006</td>\n",
              "      <td>489.428560</td>\n",
              "      <td>489.420013</td>\n",
              "      <td>480.274744</td>\n",
              "      <td>453.699150</td>\n",
              "      <td>453.697158</td>\n",
              "      <td>98.331754</td>\n",
              "      <td>0.572200</td>\n",
              "      <td>5.439641</td>\n",
              "    </tr>\n",
              "    <tr>\n",
              "      <th>min</th>\n",
              "      <td>100000.000000</td>\n",
              "      <td>-999.000000</td>\n",
              "      <td>0.000000</td>\n",
              "      <td>6.329000</td>\n",
              "      <td>0.000000</td>\n",
              "      <td>-999.000000</td>\n",
              "      <td>-999.000000</td>\n",
              "      <td>-999.000000</td>\n",
              "      <td>0.208000</td>\n",
              "      <td>0.000000</td>\n",
              "      <td>46.103000</td>\n",
              "      <td>0.047000</td>\n",
              "      <td>-1.414000</td>\n",
              "      <td>-999.000000</td>\n",
              "      <td>20.000000</td>\n",
              "      <td>-2.499000</td>\n",
              "      <td>-3.142000</td>\n",
              "      <td>26.000000</td>\n",
              "      <td>-2.508000</td>\n",
              "      <td>-3.142000</td>\n",
              "      <td>0.051000</td>\n",
              "      <td>-3.142000</td>\n",
              "      <td>13.678000</td>\n",
              "      <td>0.000000</td>\n",
              "      <td>-999.000000</td>\n",
              "      <td>-999.000000</td>\n",
              "      <td>-999.000000</td>\n",
              "      <td>-999.000000</td>\n",
              "      <td>-999.000000</td>\n",
              "      <td>-999.000000</td>\n",
              "      <td>-0.000000</td>\n",
              "      <td>0.000461</td>\n",
              "      <td>0.000839</td>\n",
              "    </tr>\n",
              "    <tr>\n",
              "      <th>25%</th>\n",
              "      <td>304559.250000</td>\n",
              "      <td>78.166000</td>\n",
              "      <td>19.304000</td>\n",
              "      <td>59.414000</td>\n",
              "      <td>14.164250</td>\n",
              "      <td>-999.000000</td>\n",
              "      <td>-999.000000</td>\n",
              "      <td>-999.000000</td>\n",
              "      <td>1.814000</td>\n",
              "      <td>2.839000</td>\n",
              "      <td>77.492000</td>\n",
              "      <td>0.885000</td>\n",
              "      <td>-1.371000</td>\n",
              "      <td>-999.000000</td>\n",
              "      <td>24.586000</td>\n",
              "      <td>-0.926000</td>\n",
              "      <td>-1.584000</td>\n",
              "      <td>32.375000</td>\n",
              "      <td>-1.012000</td>\n",
              "      <td>-1.513000</td>\n",
              "      <td>21.383000</td>\n",
              "      <td>-1.574000</td>\n",
              "      <td>122.985000</td>\n",
              "      <td>0.000000</td>\n",
              "      <td>-999.000000</td>\n",
              "      <td>-999.000000</td>\n",
              "      <td>-999.000000</td>\n",
              "      <td>-999.000000</td>\n",
              "      <td>-999.000000</td>\n",
              "      <td>-999.000000</td>\n",
              "      <td>0.000000</td>\n",
              "      <td>0.005721</td>\n",
              "      <td>0.010415</td>\n",
              "    </tr>\n",
              "    <tr>\n",
              "      <th>50%</th>\n",
              "      <td>509118.500000</td>\n",
              "      <td>105.061000</td>\n",
              "      <td>46.484000</td>\n",
              "      <td>73.744000</td>\n",
              "      <td>38.470000</td>\n",
              "      <td>-999.000000</td>\n",
              "      <td>-999.000000</td>\n",
              "      <td>-999.000000</td>\n",
              "      <td>2.492000</td>\n",
              "      <td>12.383000</td>\n",
              "      <td>120.665000</td>\n",
              "      <td>1.281000</td>\n",
              "      <td>-0.356000</td>\n",
              "      <td>-999.000000</td>\n",
              "      <td>31.776000</td>\n",
              "      <td>-0.022000</td>\n",
              "      <td>-0.039000</td>\n",
              "      <td>40.543000</td>\n",
              "      <td>-0.040000</td>\n",
              "      <td>0.093000</td>\n",
              "      <td>34.768000</td>\n",
              "      <td>-0.019000</td>\n",
              "      <td>179.883000</td>\n",
              "      <td>1.000000</td>\n",
              "      <td>38.965000</td>\n",
              "      <td>-1.865000</td>\n",
              "      <td>-2.105000</td>\n",
              "      <td>-999.000000</td>\n",
              "      <td>-999.000000</td>\n",
              "      <td>-999.000000</td>\n",
              "      <td>40.506000</td>\n",
              "      <td>0.357223</td>\n",
              "      <td>0.806562</td>\n",
              "    </tr>\n",
              "    <tr>\n",
              "      <th>75%</th>\n",
              "      <td>713677.750000</td>\n",
              "      <td>130.730000</td>\n",
              "      <td>73.620000</td>\n",
              "      <td>92.188000</td>\n",
              "      <td>79.226750</td>\n",
              "      <td>0.499000</td>\n",
              "      <td>84.031750</td>\n",
              "      <td>-4.548000</td>\n",
              "      <td>2.962000</td>\n",
              "      <td>27.634000</td>\n",
              "      <td>200.884500</td>\n",
              "      <td>1.778000</td>\n",
              "      <td>1.228750</td>\n",
              "      <td>0.000000</td>\n",
              "      <td>44.919750</td>\n",
              "      <td>0.899000</td>\n",
              "      <td>1.559000</td>\n",
              "      <td>53.379000</td>\n",
              "      <td>0.957000</td>\n",
              "      <td>1.618000</td>\n",
              "      <td>51.912000</td>\n",
              "      <td>1.559000</td>\n",
              "      <td>263.828000</td>\n",
              "      <td>2.000000</td>\n",
              "      <td>75.470750</td>\n",
              "      <td>0.432000</td>\n",
              "      <td>0.489000</td>\n",
              "      <td>33.800000</td>\n",
              "      <td>-2.436000</td>\n",
              "      <td>-2.265000</td>\n",
              "      <td>110.387000</td>\n",
              "      <td>0.733462</td>\n",
              "      <td>2.360271</td>\n",
              "    </tr>\n",
              "    <tr>\n",
              "      <th>max</th>\n",
              "      <td>918237.000000</td>\n",
              "      <td>1949.261000</td>\n",
              "      <td>968.669000</td>\n",
              "      <td>1349.351000</td>\n",
              "      <td>2834.999000</td>\n",
              "      <td>8.724000</td>\n",
              "      <td>4974.979000</td>\n",
              "      <td>17.650000</td>\n",
              "      <td>5.751000</td>\n",
              "      <td>2834.999000</td>\n",
              "      <td>2079.162000</td>\n",
              "      <td>32.228000</td>\n",
              "      <td>1.414000</td>\n",
              "      <td>1.000000</td>\n",
              "      <td>764.408000</td>\n",
              "      <td>2.500000</td>\n",
              "      <td>3.142000</td>\n",
              "      <td>701.328000</td>\n",
              "      <td>2.506000</td>\n",
              "      <td>3.142000</td>\n",
              "      <td>2842.617000</td>\n",
              "      <td>3.142000</td>\n",
              "      <td>2190.275000</td>\n",
              "      <td>3.000000</td>\n",
              "      <td>1163.439000</td>\n",
              "      <td>4.500000</td>\n",
              "      <td>3.142000</td>\n",
              "      <td>817.801000</td>\n",
              "      <td>4.500000</td>\n",
              "      <td>3.142000</td>\n",
              "      <td>1860.175000</td>\n",
              "      <td>2.386316</td>\n",
              "      <td>106.908407</td>\n",
              "    </tr>\n",
              "  </tbody>\n",
              "</table>\n",
              "</div>"
            ],
            "text/plain": [
              "             EventId   DER_mass_MMC  ...         Weight   KaggleWeight\n",
              "count  818238.000000  818238.000000  ...  818238.000000  818238.000000\n",
              "mean   509118.500000     -48.819019  ...       0.503144       2.012577\n",
              "std    236205.109119     406.118397  ...       0.572200       5.439641\n",
              "min    100000.000000    -999.000000  ...       0.000461       0.000839\n",
              "25%    304559.250000      78.166000  ...       0.005721       0.010415\n",
              "50%    509118.500000     105.061000  ...       0.357223       0.806562\n",
              "75%    713677.750000     130.730000  ...       0.733462       2.360271\n",
              "max    918237.000000    1949.261000  ...       2.386316     106.908407\n",
              "\n",
              "[8 rows x 33 columns]"
            ]
          },
          "metadata": {
            "tags": []
          },
          "execution_count": 139
        }
      ]
    },
    {
      "cell_type": "code",
      "metadata": {
        "id": "DiWi3svrOLEo",
        "colab_type": "code",
        "outputId": "5f35d5e8-4a66-4638-a630-18fbb2235488",
        "colab": {
          "base_uri": "https://localhost:8080/",
          "height": 204
        }
      },
      "source": [
        "higgs_atlas_data.columns"
      ],
      "execution_count": 0,
      "outputs": [
        {
          "output_type": "execute_result",
          "data": {
            "text/plain": [
              "Index(['EventId', 'DER_mass_MMC', 'DER_mass_transverse_met_lep',\n",
              "       'DER_mass_vis', 'DER_pt_h', 'DER_deltaeta_jet_jet', 'DER_mass_jet_jet',\n",
              "       'DER_prodeta_jet_jet', 'DER_deltar_tau_lep', 'DER_pt_tot', 'DER_sum_pt',\n",
              "       'DER_pt_ratio_lep_tau', 'DER_met_phi_centrality',\n",
              "       'DER_lep_eta_centrality', 'PRI_tau_pt', 'PRI_tau_eta', 'PRI_tau_phi',\n",
              "       'PRI_lep_pt', 'PRI_lep_eta', 'PRI_lep_phi', 'PRI_met', 'PRI_met_phi',\n",
              "       'PRI_met_sumet', 'PRI_jet_num', 'PRI_jet_leading_pt',\n",
              "       'PRI_jet_leading_eta', 'PRI_jet_leading_phi', 'PRI_jet_subleading_pt',\n",
              "       'PRI_jet_subleading_eta', 'PRI_jet_subleading_phi', 'PRI_jet_all_pt',\n",
              "       'Weight', 'Label', 'KaggleSet', 'KaggleWeight'],\n",
              "      dtype='object')"
            ]
          },
          "metadata": {
            "tags": []
          },
          "execution_count": 140
        }
      ]
    },
    {
      "cell_type": "code",
      "metadata": {
        "id": "t_CSYAhVOdeQ",
        "colab_type": "code",
        "outputId": "fb2840b4-4e96-471e-b0f3-b2f67ee83e5f",
        "colab": {
          "base_uri": "https://localhost:8080/",
          "height": 68
        }
      },
      "source": [
        "higgs_atlas_data.Label.value_counts()"
      ],
      "execution_count": 0,
      "outputs": [
        {
          "output_type": "execute_result",
          "data": {
            "text/plain": [
              "b    538678\n",
              "s    279560\n",
              "Name: Label, dtype: int64"
            ]
          },
          "metadata": {
            "tags": []
          },
          "execution_count": 141
        }
      ]
    },
    {
      "cell_type": "code",
      "metadata": {
        "id": "B3sETvb2VXyU",
        "colab_type": "code",
        "outputId": "f8add5be-b5a5-4a6a-cfdb-0f91f053c4bc",
        "colab": {
          "base_uri": "https://localhost:8080/",
          "height": 296
        }
      },
      "source": [
        "# very unbalanced dataset\n",
        "sns.countplot(x='Label',data=higgs_atlas_data) "
      ],
      "execution_count": 0,
      "outputs": [
        {
          "output_type": "execute_result",
          "data": {
            "text/plain": [
              "<matplotlib.axes._subplots.AxesSubplot at 0x7f79b5526710>"
            ]
          },
          "metadata": {
            "tags": []
          },
          "execution_count": 142
        },
        {
          "output_type": "display_data",
          "data": {
            "image/png": "[encoded data removed]",
            "text/plain": [
              "<Figure size 432x288 with 1 Axes>"
            ]
          },
          "metadata": {
            "tags": []
          }
        }
      ]
    },
    {
      "cell_type": "code",
      "metadata": {
        "id": "Fp5ULwXNdCJ6",
        "colab_type": "code",
        "outputId": "50906d4c-3b18-4a66-f3b5-e1728f2bce23",
        "colab": {
          "base_uri": "https://localhost:8080/",
          "height": 386
        }
      },
      "source": [
        "sns.catplot(y='Weight',x='Label',data=higgs_atlas_data)"
      ],
      "execution_count": 0,
      "outputs": [
        {
          "output_type": "execute_result",
          "data": {
            "text/plain": [
              "<seaborn.axisgrid.FacetGrid at 0x7f79d4250780>"
            ]
          },
          "metadata": {
            "tags": []
          },
          "execution_count": 143
        },
        {
          "output_type": "display_data",
          "data": {
            "image/png": "[encoded data removed]",
            "text/plain": [
              "<Figure size 360x360 with 1 Axes>"
            ]
          },
          "metadata": {
            "tags": []
          }
        }
      ]
    },
    {
      "cell_type": "code",
      "metadata": {
        "id": "ZL-beKw-wRVa",
        "colab_type": "code",
        "outputId": "174f5bc2-6d50-4866-ab19-5bdd3848793b",
        "colab": {
          "base_uri": "https://localhost:8080/",
          "height": 224
        }
      },
      "source": [
        "#change the label variables to binary values\n",
        "label = {'s': 1,'b': 0}  \n",
        "higgs_atlas_data.Label  = [label[item] for item in higgs_atlas_data.Label] \n",
        "higgs_atlas_data.head()"
      ],
      "execution_count": 0,
      "outputs": [
        {
          "output_type": "execute_result",
          "data": {
            "text/html": [
              "<div>\n",
              "<style scoped>\n",
              "    .dataframe tbody tr th:only-of-type {\n",
              "        vertical-align: middle;\n",
              "    }\n",
              "\n",
              "    .dataframe tbody tr th {\n",
              "        vertical-align: top;\n",
              "    }\n",
              "\n",
              "    .dataframe thead th {\n",
              "        text-align: right;\n",
              "    }\n",
              "</style>\n",
              "<table border=\"1\" class=\"dataframe\">\n",
              "  <thead>\n",
              "    <tr style=\"text-align: right;\">\n",
              "      <th></th>\n",
              "      <th>EventId</th>\n",
              "      <th>DER_mass_MMC</th>\n",
              "      <th>DER_mass_transverse_met_lep</th>\n",
              "      <th>DER_mass_vis</th>\n",
              "      <th>DER_pt_h</th>\n",
              "      <th>DER_deltaeta_jet_jet</th>\n",
              "      <th>DER_mass_jet_jet</th>\n",
              "      <th>DER_prodeta_jet_jet</th>\n",
              "      <th>DER_deltar_tau_lep</th>\n",
              "      <th>DER_pt_tot</th>\n",
              "      <th>DER_sum_pt</th>\n",
              "      <th>DER_pt_ratio_lep_tau</th>\n",
              "      <th>DER_met_phi_centrality</th>\n",
              "      <th>DER_lep_eta_centrality</th>\n",
              "      <th>PRI_tau_pt</th>\n",
              "      <th>PRI_tau_eta</th>\n",
              "      <th>PRI_tau_phi</th>\n",
              "      <th>PRI_lep_pt</th>\n",
              "      <th>PRI_lep_eta</th>\n",
              "      <th>PRI_lep_phi</th>\n",
              "      <th>PRI_met</th>\n",
              "      <th>PRI_met_phi</th>\n",
              "      <th>PRI_met_sumet</th>\n",
              "      <th>PRI_jet_num</th>\n",
              "      <th>PRI_jet_leading_pt</th>\n",
              "      <th>PRI_jet_leading_eta</th>\n",
              "      <th>PRI_jet_leading_phi</th>\n",
              "      <th>PRI_jet_subleading_pt</th>\n",
              "      <th>PRI_jet_subleading_eta</th>\n",
              "      <th>PRI_jet_subleading_phi</th>\n",
              "      <th>PRI_jet_all_pt</th>\n",
              "      <th>Weight</th>\n",
              "      <th>Label</th>\n",
              "      <th>KaggleSet</th>\n",
              "      <th>KaggleWeight</th>\n",
              "    </tr>\n",
              "  </thead>\n",
              "  <tbody>\n",
              "    <tr>\n",
              "      <th>0</th>\n",
              "      <td>100000</td>\n",
              "      <td>138.470</td>\n",
              "      <td>51.655</td>\n",
              "      <td>97.827</td>\n",
              "      <td>27.980</td>\n",
              "      <td>0.91</td>\n",
              "      <td>124.711</td>\n",
              "      <td>2.666</td>\n",
              "      <td>3.064</td>\n",
              "      <td>41.928</td>\n",
              "      <td>197.760</td>\n",
              "      <td>1.582</td>\n",
              "      <td>1.396</td>\n",
              "      <td>0.2</td>\n",
              "      <td>32.638</td>\n",
              "      <td>1.017</td>\n",
              "      <td>0.381</td>\n",
              "      <td>51.626</td>\n",
              "      <td>2.273</td>\n",
              "      <td>-2.414</td>\n",
              "      <td>16.824</td>\n",
              "      <td>-0.277</td>\n",
              "      <td>258.733</td>\n",
              "      <td>2</td>\n",
              "      <td>67.435</td>\n",
              "      <td>2.150</td>\n",
              "      <td>0.444</td>\n",
              "      <td>46.062</td>\n",
              "      <td>1.24</td>\n",
              "      <td>-2.475</td>\n",
              "      <td>113.497</td>\n",
              "      <td>0.000814</td>\n",
              "      <td>1</td>\n",
              "      <td>t</td>\n",
              "      <td>0.002653</td>\n",
              "    </tr>\n",
              "    <tr>\n",
              "      <th>1</th>\n",
              "      <td>100001</td>\n",
              "      <td>160.937</td>\n",
              "      <td>68.768</td>\n",
              "      <td>103.235</td>\n",
              "      <td>48.146</td>\n",
              "      <td>-999.00</td>\n",
              "      <td>-999.000</td>\n",
              "      <td>-999.000</td>\n",
              "      <td>3.473</td>\n",
              "      <td>2.078</td>\n",
              "      <td>125.157</td>\n",
              "      <td>0.879</td>\n",
              "      <td>1.414</td>\n",
              "      <td>-999.0</td>\n",
              "      <td>42.014</td>\n",
              "      <td>2.039</td>\n",
              "      <td>-3.011</td>\n",
              "      <td>36.918</td>\n",
              "      <td>0.501</td>\n",
              "      <td>0.103</td>\n",
              "      <td>44.704</td>\n",
              "      <td>-1.916</td>\n",
              "      <td>164.546</td>\n",
              "      <td>1</td>\n",
              "      <td>46.226</td>\n",
              "      <td>0.725</td>\n",
              "      <td>1.158</td>\n",
              "      <td>-999.000</td>\n",
              "      <td>-999.00</td>\n",
              "      <td>-999.000</td>\n",
              "      <td>46.226</td>\n",
              "      <td>0.681042</td>\n",
              "      <td>0</td>\n",
              "      <td>t</td>\n",
              "      <td>2.233584</td>\n",
              "    </tr>\n",
              "    <tr>\n",
              "      <th>2</th>\n",
              "      <td>100002</td>\n",
              "      <td>-999.000</td>\n",
              "      <td>162.172</td>\n",
              "      <td>125.953</td>\n",
              "      <td>35.635</td>\n",
              "      <td>-999.00</td>\n",
              "      <td>-999.000</td>\n",
              "      <td>-999.000</td>\n",
              "      <td>3.148</td>\n",
              "      <td>9.336</td>\n",
              "      <td>197.814</td>\n",
              "      <td>3.776</td>\n",
              "      <td>1.414</td>\n",
              "      <td>-999.0</td>\n",
              "      <td>32.154</td>\n",
              "      <td>-0.705</td>\n",
              "      <td>-2.093</td>\n",
              "      <td>121.409</td>\n",
              "      <td>-0.953</td>\n",
              "      <td>1.052</td>\n",
              "      <td>54.283</td>\n",
              "      <td>-2.186</td>\n",
              "      <td>260.414</td>\n",
              "      <td>1</td>\n",
              "      <td>44.251</td>\n",
              "      <td>2.053</td>\n",
              "      <td>-2.028</td>\n",
              "      <td>-999.000</td>\n",
              "      <td>-999.00</td>\n",
              "      <td>-999.000</td>\n",
              "      <td>44.251</td>\n",
              "      <td>0.715742</td>\n",
              "      <td>0</td>\n",
              "      <td>t</td>\n",
              "      <td>2.347389</td>\n",
              "    </tr>\n",
              "    <tr>\n",
              "      <th>3</th>\n",
              "      <td>100003</td>\n",
              "      <td>143.905</td>\n",
              "      <td>81.417</td>\n",
              "      <td>80.943</td>\n",
              "      <td>0.414</td>\n",
              "      <td>-999.00</td>\n",
              "      <td>-999.000</td>\n",
              "      <td>-999.000</td>\n",
              "      <td>3.310</td>\n",
              "      <td>0.414</td>\n",
              "      <td>75.968</td>\n",
              "      <td>2.354</td>\n",
              "      <td>-1.285</td>\n",
              "      <td>-999.0</td>\n",
              "      <td>22.647</td>\n",
              "      <td>-1.655</td>\n",
              "      <td>0.010</td>\n",
              "      <td>53.321</td>\n",
              "      <td>-0.522</td>\n",
              "      <td>-3.100</td>\n",
              "      <td>31.082</td>\n",
              "      <td>0.060</td>\n",
              "      <td>86.062</td>\n",
              "      <td>0</td>\n",
              "      <td>-999.000</td>\n",
              "      <td>-999.000</td>\n",
              "      <td>-999.000</td>\n",
              "      <td>-999.000</td>\n",
              "      <td>-999.00</td>\n",
              "      <td>-999.000</td>\n",
              "      <td>-0.000</td>\n",
              "      <td>1.660654</td>\n",
              "      <td>0</td>\n",
              "      <td>t</td>\n",
              "      <td>5.446378</td>\n",
              "    </tr>\n",
              "    <tr>\n",
              "      <th>4</th>\n",
              "      <td>100004</td>\n",
              "      <td>175.864</td>\n",
              "      <td>16.915</td>\n",
              "      <td>134.805</td>\n",
              "      <td>16.405</td>\n",
              "      <td>-999.00</td>\n",
              "      <td>-999.000</td>\n",
              "      <td>-999.000</td>\n",
              "      <td>3.891</td>\n",
              "      <td>16.405</td>\n",
              "      <td>57.983</td>\n",
              "      <td>1.056</td>\n",
              "      <td>-1.385</td>\n",
              "      <td>-999.0</td>\n",
              "      <td>28.209</td>\n",
              "      <td>-2.197</td>\n",
              "      <td>-2.231</td>\n",
              "      <td>29.774</td>\n",
              "      <td>0.798</td>\n",
              "      <td>1.569</td>\n",
              "      <td>2.723</td>\n",
              "      <td>-0.871</td>\n",
              "      <td>53.131</td>\n",
              "      <td>0</td>\n",
              "      <td>-999.000</td>\n",
              "      <td>-999.000</td>\n",
              "      <td>-999.000</td>\n",
              "      <td>-999.000</td>\n",
              "      <td>-999.00</td>\n",
              "      <td>-999.000</td>\n",
              "      <td>0.000</td>\n",
              "      <td>1.904263</td>\n",
              "      <td>0</td>\n",
              "      <td>t</td>\n",
              "      <td>6.245333</td>\n",
              "    </tr>\n",
              "  </tbody>\n",
              "</table>\n",
              "</div>"
            ],
            "text/plain": [
              "   EventId  DER_mass_MMC  ...  KaggleSet  KaggleWeight\n",
              "0   100000       138.470  ...          t      0.002653\n",
              "1   100001       160.937  ...          t      2.233584\n",
              "2   100002      -999.000  ...          t      2.347389\n",
              "3   100003       143.905  ...          t      5.446378\n",
              "4   100004       175.864  ...          t      6.245333\n",
              "\n",
              "[5 rows x 35 columns]"
            ]
          },
          "metadata": {
            "tags": []
          },
          "execution_count": 144
        }
      ]
    },
    {
      "cell_type": "code",
      "metadata": {
        "id": "8UzPtlmTVvAM",
        "colab_type": "code",
        "colab": {}
      },
      "source": [
        "features=higgs_atlas_data.drop(columns='Label')\n",
        "target=higgs_atlas_data['Label']\n",
        "X_train,X_test, y_train, y_test = train_test_split(features,target, test_size = 0.2, stratify=target, random_state = 42)"
      ],
      "execution_count": 0,
      "outputs": []
    },
    {
      "cell_type": "code",
      "metadata": {
        "id": "bFFqP5WXafku",
        "colab_type": "code",
        "outputId": "01e120f4-a2c8-45ef-c191-6180f682befb",
        "colab": {
          "base_uri": "https://localhost:8080/",
          "height": 34
        }
      },
      "source": [
        "X_train.shape,y_train.shape,X_test.shape,y_test.shape"
      ],
      "execution_count": 0,
      "outputs": [
        {
          "output_type": "execute_result",
          "data": {
            "text/plain": [
              "((654590, 34), (654590,), (163648, 34), (163648,))"
            ]
          },
          "metadata": {
            "tags": []
          },
          "execution_count": 146
        }
      ]
    },
    {
      "cell_type": "code",
      "metadata": {
        "id": "wtOxCwxPc5JA",
        "colab_type": "code",
        "outputId": "5960a3fd-6c85-4679-996c-b645eb1e2e0d",
        "colab": {
          "base_uri": "https://localhost:8080/",
          "height": 102
        }
      },
      "source": [
        "X_train.drop(columns=['KaggleSet','KaggleWeight','Weight'],inplace=True)\n",
        "X_test.drop(columns=['KaggleSet','KaggleWeight','Weight'],inplace=True)"
      ],
      "execution_count": 0,
      "outputs": [
        {
          "output_type": "stream",
          "text": [
            "/usr/local/lib/python3.6/dist-packages/pandas/core/frame.py:4117: SettingWithCopyWarning: \n",
            "A value is trying to be set on a copy of a slice from a DataFrame\n",
            "\n",
            "See the caveats in the documentation: http://pandas.pydata.org/pandas-docs/stable/user_guide/indexing.html#returning-a-view-versus-a-copy\n",
            "  errors=errors,\n"
          ],
          "name": "stderr"
        }
      ]
    },
    {
      "cell_type": "code",
      "metadata": {
        "id": "cNmBeXf2VvKZ",
        "colab_type": "code",
        "colab": {}
      },
      "source": [
        "# parameters for LightGBMClassifier\n",
        "params = {\n",
        "    'objective' :'binary',\n",
        "    'learning_rate' : 0.02,\n",
        "    'num_leaves' : 76,\n",
        "    'feature_fraction': 0.64, \n",
        "    'bagging_fraction': 0.8, \n",
        "    'bagging_freq':1,\n",
        "    'boosting_type' : 'gbdt',\n",
        "    'metric': 'binary_logloss'\n",
        "}"
      ],
      "execution_count": 0,
      "outputs": []
    },
    {
      "cell_type": "code",
      "metadata": {
        "id": "lC7Nq8_6c36K",
        "colab_type": "code",
        "colab": {}
      },
      "source": [
        ""
      ],
      "execution_count": 0,
      "outputs": []
    },
    {
      "cell_type": "code",
      "metadata": {
        "id": "9TSFLiU7VvFc",
        "colab_type": "code",
        "colab": {}
      },
      "source": [
        "lgbm = lightgbm.LGBMClassifier(**params)"
      ],
      "execution_count": 0,
      "outputs": []
    },
    {
      "cell_type": "code",
      "metadata": {
        "id": "KpUPWvikMGxZ",
        "colab_type": "code",
        "outputId": "d05e7a7d-67e1-4a67-c6f3-0d83c4f6ea4e",
        "colab": {
          "base_uri": "https://localhost:8080/",
          "height": 153
        }
      },
      "source": [
        "lgbm.fit(X_train,y_train)"
      ],
      "execution_count": 0,
      "outputs": [
        {
          "output_type": "execute_result",
          "data": {
            "text/plain": [
              "LGBMClassifier(bagging_fraction=0.8, bagging_freq=1, boosting_type='gbdt',\n",
              "               class_weight=None, colsample_bytree=1.0, feature_fraction=0.64,\n",
              "               importance_type='split', learning_rate=0.02, max_depth=-1,\n",
              "               metric='binary_logloss', min_child_samples=20,\n",
              "               min_child_weight=0.001, min_split_gain=0.0, n_estimators=100,\n",
              "               n_jobs=-1, num_leaves=76, objective='binary', random_state=None,\n",
              "               reg_alpha=0.0, reg_lambda=0.0, silent=True, subsample=1.0,\n",
              "               subsample_for_bin=200000, subsample_freq=0)"
            ]
          },
          "metadata": {
            "tags": []
          },
          "execution_count": 150
        }
      ]
    },
    {
      "cell_type": "code",
      "metadata": {
        "id": "6Z9xKoFXUncH",
        "colab_type": "code",
        "colab": {}
      },
      "source": [
        "y_pred=lgbm.predict(X_test)"
      ],
      "execution_count": 0,
      "outputs": []
    },
    {
      "cell_type": "code",
      "metadata": {
        "id": "DfXBxPmuUnhD",
        "colab_type": "code",
        "outputId": "4f815337-bc80-41f2-a789-fe880cebb932",
        "colab": {
          "base_uri": "https://localhost:8080/",
          "height": 34
        }
      },
      "source": [
        "accuracy_score(y_test,y_pred)"
      ],
      "execution_count": 0,
      "outputs": [
        {
          "output_type": "execute_result",
          "data": {
            "text/plain": [
              "0.8337162690653109"
            ]
          },
          "metadata": {
            "tags": []
          },
          "execution_count": 152
        }
      ]
    },
    {
      "cell_type": "code",
      "metadata": {
        "id": "eMeFCH67u_5-",
        "colab_type": "code",
        "outputId": "004dd9ea-3333-488c-f77f-e3d2ffddc1cb",
        "colab": {
          "base_uri": "https://localhost:8080/",
          "height": 296
        }
      },
      "source": [
        "ytrain_pred_probas = lgbm.predict_proba(X_train)[:, 1]   # prob of predict as 1\n",
        "fpr, tpr, thresholds = roc_curve(y_train, ytrain_pred_probas)   # precision_recall_curve\n",
        "roc = pd.DataFrame({'FPR':fpr,'TPR':tpr,'Thresholds':thresholds})\n",
        "_ = plt.figure()\n",
        "roc_auc = auc(fpr,tpr)\n",
        "plt.plot(fpr, tpr, 'b',label='AUC = %0.3f'% roc_auc)\n",
        "plt.legend(loc='lower right')\n",
        "plt.axvline(0.1, color = '#00C851', linestyle = '--')\n",
        "plt.xlabel(\"FPR\")\n",
        "plt.ylabel(\"TPR\")"
      ],
      "execution_count": 0,
      "outputs": [
        {
          "output_type": "execute_result",
          "data": {
            "text/plain": [
              "Text(0, 0.5, 'TPR')"
            ]
          },
          "metadata": {
            "tags": []
          },
          "execution_count": 153
        },
        {
          "output_type": "display_data",
          "data": {
            "image/png": "[encoded data removed]",
            "text/plain": [
              "<Figure size 432x288 with 1 Axes>"
            ]
          },
          "metadata": {
            "tags": []
          }
        }
      ]
    },
    {
      "cell_type": "code",
      "metadata": {
        "id": "-Ki-xiYdUnpH",
        "colab_type": "code",
        "colab": {}
      },
      "source": [
        "cm = confusion_matrix(y_test, y_pred)"
      ],
      "execution_count": 0,
      "outputs": []
    },
    {
      "cell_type": "code",
      "metadata": {
        "id": "Xi_sJ5xJUn72",
        "colab_type": "code",
        "outputId": "e56cf2da-f3e9-464d-8220-b46f6e5ae5ca",
        "colab": {
          "base_uri": "https://localhost:8080/",
          "height": 51
        }
      },
      "source": [
        "cm"
      ],
      "execution_count": 0,
      "outputs": [
        {
          "output_type": "execute_result",
          "data": {
            "text/plain": [
              "array([[98315,  9421],\n",
              "       [17791, 38121]])"
            ]
          },
          "metadata": {
            "tags": []
          },
          "execution_count": 155
        }
      ]
    },
    {
      "cell_type": "code",
      "metadata": {
        "id": "Hs0S5eaMXV2C",
        "colab_type": "code",
        "colab": {}
      },
      "source": [
        "def ams(s, b):\n",
        "    return math.sqrt(2 * ((s + b + 10) * math.log(1.0 + s/(b + 10)) - s))"
      ],
      "execution_count": 0,
      "outputs": []
    },
    {
      "cell_type": "code",
      "metadata": {
        "id": "3YfMSWuUimso",
        "colab_type": "code",
        "colab": {}
      },
      "source": [
        "def get_ams_score(W, Y, Y_pred):\n",
        "    s = W * (Y == 1) * (Y_pred == 1)\n",
        "    b = W * (Y == 0) * (Y_pred == 1)\n",
        "    s = np.sum(s)\n",
        "    b = np.sum(b)\n",
        "    return ams(s, b)"
      ],
      "execution_count": 0,
      "outputs": []
    },
    {
      "cell_type": "code",
      "metadata": {
        "id": "JYRcBuC4mqcr",
        "colab_type": "code",
        "colab": {}
      },
      "source": [
        "def ams(s, b):\n",
        "    bReg = 10.\n",
        "    return math.sqrt(2 * ((s + b + bReg) * \n",
        "                          math.log(1 + s / (b + bReg)) - s))"
      ],
      "execution_count": 0,
      "outputs": []
    },
    {
      "cell_type": "code",
      "metadata": {
        "id": "9X7pfYbQFb64",
        "colab_type": "code",
        "outputId": "92708e82-e4f6-47d2-8d19-52c43464c379",
        "colab": {
          "base_uri": "https://localhost:8080/",
          "height": 85
        }
      },
      "source": [
        "x=np.where(fpr>0,tpr/fpr,0)"
      ],
      "execution_count": 0,
      "outputs": [
        {
          "output_type": "stream",
          "text": [
            "/usr/local/lib/python3.6/dist-packages/ipykernel_launcher.py:1: RuntimeWarning: divide by zero encountered in true_divide\n",
            "  \"\"\"Entry point for launching an IPython kernel.\n",
            "/usr/local/lib/python3.6/dist-packages/ipykernel_launcher.py:1: RuntimeWarning: invalid value encountered in true_divide\n",
            "  \"\"\"Entry point for launching an IPython kernel.\n"
          ],
          "name": "stderr"
        }
      ]
    },
    {
      "cell_type": "code",
      "metadata": {
        "id": "hZoVE3sJF-Aq",
        "colab_type": "code",
        "outputId": "a0f62dd6-ff51-48e8-aa9c-468a0ff363f9",
        "colab": {
          "base_uri": "https://localhost:8080/",
          "height": 282
        }
      },
      "source": [
        "pd.DataFrame(x).plot()"
      ],
      "execution_count": 0,
      "outputs": [
        {
          "output_type": "execute_result",
          "data": {
            "text/plain": [
              "<matplotlib.axes._subplots.AxesSubplot at 0x7f79b53eab38>"
            ]
          },
          "metadata": {
            "tags": []
          },
          "execution_count": 160
        },
        {
          "output_type": "display_data",
          "data": {
            "image/png": "[encoded data removed]",
            "text/plain": [
              "<Figure size 432x288 with 1 Axes>"
            ]
          },
          "metadata": {
            "tags": []
          }
        }
      ]
    },
    {
      "cell_type": "code",
      "metadata": {
        "id": "-Pk5xzNlowlk",
        "colab_type": "code",
        "outputId": "47d92234-0239-48af-b511-371f3dd8da3a",
        "colab": {
          "base_uri": "https://localhost:8080/",
          "height": 289
        }
      },
      "source": [
        "\n",
        "labels = ['s','b']\n",
        "fig = plt.figure()\n",
        "ax = fig.add_subplot(111)\n",
        "cax = ax.matshow(cm)\n",
        "plt.title('Confusion matrix of the classifier')\n",
        "fig.colorbar(cax)\n",
        "ax.set_xticklabels([''] + labels)\n",
        "ax.set_yticklabels([''] + labels)\n",
        "plt.xlabel('Predicted')\n",
        "plt.ylabel('True')\n",
        "plt.show()"
      ],
      "execution_count": 0,
      "outputs": [
        {
          "output_type": "display_data",
          "data": {
            "image/png": "[encoded data removed]",
            "text/plain": [
              "<Figure size 432x288 with 2 Axes>"
            ]
          },
          "metadata": {
            "tags": []
          }
        }
      ]
    },
    {
      "cell_type": "code",
      "metadata": {
        "id": "iiyK-aU9tY2o",
        "colab_type": "code",
        "outputId": "9937c05d-4ec8-44e1-a2e0-854981cab68b",
        "colab": {
          "base_uri": "https://localhost:8080/",
          "height": 170
        }
      },
      "source": [
        "from sklearn.metrics import classification_report\n",
        "print(classification_report(y_test, y_pred))"
      ],
      "execution_count": 0,
      "outputs": [
        {
          "output_type": "stream",
          "text": [
            "              precision    recall  f1-score   support\n",
            "\n",
            "           0       0.85      0.91      0.88    107736\n",
            "           1       0.80      0.68      0.74     55912\n",
            "\n",
            "    accuracy                           0.83    163648\n",
            "   macro avg       0.82      0.80      0.81    163648\n",
            "weighted avg       0.83      0.83      0.83    163648\n",
            "\n"
          ],
          "name": "stdout"
        }
      ]
    },
    {
      "cell_type": "code",
      "metadata": {
        "id": "68G82Jebn5x-",
        "colab_type": "code",
        "outputId": "fdda3fba-214b-4a4d-eb05-fddfbe799d6c",
        "colab": {
          "base_uri": "https://localhost:8080/",
          "height": 71
        }
      },
      "source": [
        "import shap  # package used to calculate Shap values\n",
        "\n",
        "# Create object that can calculate shap values\n",
        "explainer = shap.TreeExplainer(lgbm)\n",
        "\n",
        "# Calculate Shap values\n",
        "shap_values = explainer.shap_values(X_test)"
      ],
      "execution_count": 0,
      "outputs": [
        {
          "output_type": "stream",
          "text": [
            "/usr/local/lib/python3.6/dist-packages/shap/explainers/tree.py:180: UserWarning: LightGBM binary classifier with TreeExplainer shap values output has changed to a list of ndarray\n",
            "  warnings.warn('LightGBM binary classifier with TreeExplainer shap values output has changed to a list of ndarray')\n"
          ],
          "name": "stderr"
        }
      ]
    },
    {
      "cell_type": "code",
      "metadata": {
        "id": "tvQJ_8tD5BUL",
        "colab_type": "code",
        "outputId": "2e77a02e-d39e-4a6f-a9b1-d4e96ebeb5a8",
        "colab": {
          "base_uri": "https://localhost:8080/",
          "height": 187
        }
      },
      "source": [
        "X_train.columns"
      ],
      "execution_count": 0,
      "outputs": [
        {
          "output_type": "execute_result",
          "data": {
            "text/plain": [
              "Index(['EventId', 'DER_mass_MMC', 'DER_mass_transverse_met_lep',\n",
              "       'DER_mass_vis', 'DER_pt_h', 'DER_deltaeta_jet_jet', 'DER_mass_jet_jet',\n",
              "       'DER_prodeta_jet_jet', 'DER_deltar_tau_lep', 'DER_pt_tot', 'DER_sum_pt',\n",
              "       'DER_pt_ratio_lep_tau', 'DER_met_phi_centrality',\n",
              "       'DER_lep_eta_centrality', 'PRI_tau_pt', 'PRI_tau_eta', 'PRI_tau_phi',\n",
              "       'PRI_lep_pt', 'PRI_lep_eta', 'PRI_lep_phi', 'PRI_met', 'PRI_met_phi',\n",
              "       'PRI_met_sumet', 'PRI_jet_num', 'PRI_jet_leading_pt',\n",
              "       'PRI_jet_leading_eta', 'PRI_jet_leading_phi', 'PRI_jet_subleading_pt',\n",
              "       'PRI_jet_subleading_eta', 'PRI_jet_subleading_phi', 'PRI_jet_all_pt'],\n",
              "      dtype='object')"
            ]
          },
          "metadata": {
            "tags": []
          },
          "execution_count": 164
        }
      ]
    },
    {
      "cell_type": "code",
      "metadata": {
        "id": "iVwZpVdOsMyB",
        "colab_type": "code",
        "outputId": "9bfd5971-470c-4d3b-89e0-3bc3b8ac3785",
        "colab": {
          "base_uri": "https://localhost:8080/",
          "height": 581
        }
      },
      "source": [
        "shap.summary_plot(shap_values,feature_names=X_test.columns)"
      ],
      "execution_count": 0,
      "outputs": [
        {
          "output_type": "display_data",
          "data": {
            "image/png": "[encoded data removed]",
            "text/plain": [
              "<Figure size 576x684 with 1 Axes>"
            ]
          },
          "metadata": {
            "tags": []
          }
        }
      ]
    },
    {
      "cell_type": "code",
      "metadata": {
        "id": "_KPasv0zn9o4",
        "colab_type": "code",
        "colab": {}
      },
      "source": [
        "from imblearn.over_sampling import SMOTE \n",
        "sm = SMOTE(random_state=2)\n",
        "X_train_res, y_train_res = sm.fit_sample(X_train, y_train.ravel())"
      ],
      "execution_count": 0,
      "outputs": []
    },
    {
      "cell_type": "code",
      "metadata": {
        "id": "nC4JEz4S-5nz",
        "colab_type": "code",
        "outputId": "e0969d38-45cd-465b-d70a-fb595dd45562",
        "colab": {
          "base_uri": "https://localhost:8080/",
          "height": 34
        }
      },
      "source": [
        "X_train_res.shape"
      ],
      "execution_count": 0,
      "outputs": [
        {
          "output_type": "execute_result",
          "data": {
            "text/plain": [
              "(861884, 31)"
            ]
          },
          "metadata": {
            "tags": []
          },
          "execution_count": 167
        }
      ]
    },
    {
      "cell_type": "code",
      "metadata": {
        "id": "0GDGb3R5HHSo",
        "colab_type": "code",
        "outputId": "45a758a4-e39d-49a6-ec8d-3e44bd535f56",
        "colab": {
          "base_uri": "https://localhost:8080/",
          "height": 34
        }
      },
      "source": [
        "X_train.shape"
      ],
      "execution_count": 0,
      "outputs": [
        {
          "output_type": "execute_result",
          "data": {
            "text/plain": [
              "(654590, 31)"
            ]
          },
          "metadata": {
            "tags": []
          },
          "execution_count": 168
        }
      ]
    },
    {
      "cell_type": "code",
      "metadata": {
        "id": "7pD_fOdfHN8b",
        "colab_type": "code",
        "outputId": "c754f03e-4888-4440-c083-872be38164ba",
        "colab": {
          "base_uri": "https://localhost:8080/",
          "height": 153
        }
      },
      "source": [
        "lgbm.fit(X_train_res,y_train_res)"
      ],
      "execution_count": 0,
      "outputs": [
        {
          "output_type": "execute_result",
          "data": {
            "text/plain": [
              "LGBMClassifier(bagging_fraction=0.8, bagging_freq=1, boosting_type='gbdt',\n",
              "               class_weight=None, colsample_bytree=1.0, feature_fraction=0.64,\n",
              "               importance_type='split', learning_rate=0.02, max_depth=-1,\n",
              "               metric='binary_logloss', min_child_samples=20,\n",
              "               min_child_weight=0.001, min_split_gain=0.0, n_estimators=100,\n",
              "               n_jobs=-1, num_leaves=76, objective='binary', random_state=None,\n",
              "               reg_alpha=0.0, reg_lambda=0.0, silent=True, subsample=1.0,\n",
              "               subsample_for_bin=200000, subsample_freq=0)"
            ]
          },
          "metadata": {
            "tags": []
          },
          "execution_count": 169
        }
      ]
    },
    {
      "cell_type": "code",
      "metadata": {
        "id": "beYIoTYPHbnx",
        "colab_type": "code",
        "colab": {}
      },
      "source": [
        "y_pred_smote=lgbm.predict(X_test)"
      ],
      "execution_count": 0,
      "outputs": []
    },
    {
      "cell_type": "code",
      "metadata": {
        "id": "W5cbVhT7TOgT",
        "colab_type": "code",
        "outputId": "285d684e-14eb-4a6c-f49a-11667fc7e251",
        "colab": {
          "base_uri": "https://localhost:8080/",
          "height": 34
        }
      },
      "source": [
        "accuracy_score(y_test,y_pred_smote)"
      ],
      "execution_count": 0,
      "outputs": [
        {
          "output_type": "execute_result",
          "data": {
            "text/plain": [
              "0.8225153989049667"
            ]
          },
          "metadata": {
            "tags": []
          },
          "execution_count": 173
        }
      ]
    },
    {
      "cell_type": "code",
      "metadata": {
        "id": "hbs6fGqJHik4",
        "colab_type": "code",
        "outputId": "d3ed934f-a614-4921-e109-f521c4e5ea3f",
        "colab": {
          "base_uri": "https://localhost:8080/",
          "height": 207
        }
      },
      "source": [
        "seed = 7\n",
        "kfold = model_selection.KFold(n_splits=5, random_state=seed)\n",
        "# create the sub models\n",
        "estimators = []\n",
        "model1 = lightgbm.LGBMClassifier(**params)\n",
        "estimators.append(('LightGBM', model1))\n",
        "model2 = RandomForestClassifier()\n",
        "estimators.append(('RandomForest', model2))\n",
        "model3 = LinearSVC()\n",
        "estimators.append(('svm', model3))\n",
        "# create the ensemble model\n",
        "ensemble = VotingClassifier(estimators)\n",
        "results = model_selection.cross_val_score(ensemble, X_train, y_train, cv=kfold)\n",
        "print(results.mean())"
      ],
      "execution_count": 0,
      "outputs": [
        {
          "output_type": "stream",
          "text": [
            "/usr/local/lib/python3.6/dist-packages/sklearn/ensemble/forest.py:245: FutureWarning: The default value of n_estimators will change from 10 in version 0.20 to 100 in 0.22.\n",
            "  \"10 in version 0.20 to 100 in 0.22.\", FutureWarning)\n",
            "/usr/local/lib/python3.6/dist-packages/sklearn/svm/base.py:929: ConvergenceWarning: Liblinear failed to converge, increase the number of iterations.\n",
            "  \"the number of iterations.\", ConvergenceWarning)\n",
            "/usr/local/lib/python3.6/dist-packages/sklearn/ensemble/forest.py:245: FutureWarning: The default value of n_estimators will change from 10 in version 0.20 to 100 in 0.22.\n",
            "  \"10 in version 0.20 to 100 in 0.22.\", FutureWarning)\n",
            "/usr/local/lib/python3.6/dist-packages/sklearn/svm/base.py:929: ConvergenceWarning: Liblinear failed to converge, increase the number of iterations.\n",
            "  \"the number of iterations.\", ConvergenceWarning)\n",
            "/usr/local/lib/python3.6/dist-packages/sklearn/ensemble/forest.py:245: FutureWarning: The default value of n_estimators will change from 10 in version 0.20 to 100 in 0.22.\n",
            "  \"10 in version 0.20 to 100 in 0.22.\", FutureWarning)\n"
          ],
          "name": "stderr"
        }
      ]
    },
    {
      "cell_type": "code",
      "metadata": {
        "id": "VjvF6gFpMFk6",
        "colab_type": "code",
        "colab": {}
      },
      "source": [
        ""
      ],
      "execution_count": 0,
      "outputs": []
    }
  ]
}